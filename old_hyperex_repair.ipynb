{
 "cells": [
  {
   "cell_type": "markdown",
   "metadata": {},
   "source": [
    "### In this notebook I will try to repair hyperex amplicon extraction tool\n",
    "\n",
    "hyperex keeps crushing when there is forward primer found upstream revese primer:\n",
    "\n",
    "thread 'main' panicked at /home/mg/.cargo/registry/src/index.crates.io-1949cf8c6b5b557f/hyperex-0.1.1/src/utils.rs:420:45:                                                                               slice index starts at 256 but ends at 65                                                                                                                                                                 note: run with \\`RUST_BACKTRACE=1` environment variable to display a backtrace                                                                                                                            Aborted (core dumped)   \n",
    "\n",
    "I will  load the fasta seq with Biopython and then use hyperex on each read"
   ]
  },
  {
   "cell_type": "code",
   "execution_count": 151,
   "metadata": {},
   "outputs": [
    {
     "name": "stdout",
     "output_type": "stream",
     "text": []
    }
   ],
   "source": [
    "from Bio import SeqIO\n",
    "fasta_seq = list(SeqIO.parse(\"./datasets/uchime_reference_dataset_16_10_2022/2022_10_26_chimera_reference_release/untrimmed_sequences/uchime_reference_dataset_untrimmed_16_10_2022.fasta\", \"fasta\"))\n",
    "#fasta_seq = fasta_seq[:300]\n",
    "len(fasta_seq)\n"
   ]
  },
  {
   "cell_type": "code",
   "execution_count": 179,
   "metadata": {},
   "outputs": [],
   "source": [
    "from hyperex_repaired import hyperex_repaired"
   ]
  },
  {
   "cell_type": "code",
   "execution_count": 181,
   "metadata": {},
   "outputs": [
    {
     "name": "stdout",
     "output_type": "stream",
     "text": []
    }
   ],
   "source": [
    "res_seq = hyperex_repaired(fasta_seq,\"GTGARTCATCGARTCTTTG\",\"TCCTCCGCTTATTGATATGC\")"
   ]
  },
  {
   "cell_type": "code",
   "execution_count": 178,
   "metadata": {},
   "outputs": [
    {
     "name": "stdout",
     "output_type": "stream",
     "text": []
    }
   ],
   "source": [
    "len(res_seq),res_seq[:10]"
   ]
  },
  {
   "cell_type": "code",
   "execution_count": 174,
   "metadata": {},
   "outputs": [
    {
     "name": "stdout",
     "output_type": "stream",
     "text": []
    }
   ],
   "source": [
    "results[0]\n",
    "len(results)\n",
    "results[:10]\n",
    "for i in results:\n",
    "    if len(i) <1: print(i)"
   ]
  },
  {
   "cell_type": "code",
   "execution_count": 131,
   "metadata": {},
   "outputs": [
    {
     "name": "stdout",
     "output_type": "stream",
     "text": []
    },
    {
     "name": "stdout",
     "output_type": "stream",
     "text": []
    }
   ],
   "source": [
    "# old version\n",
    "import os\n",
    "import subprocess\n",
    "import re\n",
    "from collections import Counter\n",
    "import sys\n",
    "\n",
    "results = []  # List to store the content of hyperex_out.fa files\n",
    "warnings = []  # List to store the warnings\n",
    "errors = []  # List to store the errors\n",
    "hyperex_out_fa = f\"hyperex_temp_out.fa\"\n",
    "hyperex_log = f\"hyperex.log\"\n",
    "hyperex_gff = f\"hyperex_temp_out.gff\"\n",
    "\n",
    "# Clean up any existing temporary files\n",
    "if os.path.exists(hyperex_log): os.remove(hyperex_log)\n",
    "if os.path.exists(hyperex_gff): os.remove(hyperex_gff)\n",
    "if os.path.exists(hyperex_out_fa): os.remove(hyperex_out_fa)\n",
    "\n",
    "# Command template for hyperex\n",
    "command = [\"hyperex\", \"-f\", \"GTGARTCATCGARTCTTTG\", \"-r\", \"TCCTCCGCTTATTGATATGC\", \"-p\", \"hyperex_temp_out\"]\n",
    "\n",
    "lenka = len(fasta_seq)\n",
    "for i, record in enumerate(fasta_seq):\n",
    "    if i % 50 == 0: print(f\"{i}/{lenka}\", end=\"\\r\")\n",
    "    if i >0: command = [\"hyperex\", \"-f\", \"GTGARTCATCGARTCTTTG\", \"-r\", \"TCCTCCGCTTATTGATATGC\", \"-p\", \"hyperex_temp_out\",\"--force\"] \n",
    "    # Convert the record to FASTA format string\n",
    "    fasta_data = f\">{record.id}\\n{str(record.seq)}\\n\"\n",
    "    \n",
    "    # Run hyperex with the FASTA data passed via stdin\n",
    "    process = subprocess.Popen(command, stdin=subprocess.PIPE, stdout=subprocess.PIPE, stderr=subprocess.PIPE, text=True)\n",
    "    stdout, stderr = process.communicate(input=fasta_data)\n",
    "    \n",
    "    # Collect warnings and errors\n",
    "    warnings.extend(list(map(lambda x: x.replace(\"\\x1b[0m]\", \"\"), re.findall(\"WARN(.+)\", stdout))))\n",
    "    errors.extend(stderr)\n",
    "    \n",
    "    # Read results if the output file exists\n",
    "    if os.path.exists(hyperex_out_fa):\n",
    "        with open(hyperex_out_fa, \"r\") as fa_file:\n",
    "            results.append(fa_file.read())\n",
    "\n",
    "# Clean up any remaining temporary files\n",
    "if os.path.exists(hyperex_out_fa): os.remove(hyperex_out_fa)\n",
    "if os.path.exists(hyperex_log): os.remove(hyperex_log)\n",
    "if os.path.exists(hyperex_gff): os.remove(hyperex_gff)\n",
    "\n",
    "print()\n",
    "real_results = [i for i in results if len(i) > 0]\n",
    "print(\"number of real results:\", len(real_results))\n",
    "warning_counts = Counter(warnings)\n",
    "error_counts = Counter(errors)\n",
    "print(\"ERRORS:\", error_counts, \"WARNINGS:\", warning_counts, sep=\"\\n\")\n"
   ]
  },
  {
   "cell_type": "code",
   "execution_count": null,
   "metadata": {},
   "outputs": [],
   "source": [
    "# old version 2\n",
    "import os\n",
    "import subprocess\n",
    "#from time import sleep\n",
    "#import sys\n",
    "import re\n",
    "from collections import Counter\n",
    "results = []  # List to store the content of hyperex_out.fa files\n",
    "warnings = []  # List to store the warnings\n",
    "errors = []  # List to store the errors\n",
    "hyperex_out_fa = f\"hyperex_temp_out.fa\"\n",
    "hyperex_log = f\"hyperex.log\"\n",
    "hyperex_gff = f\"hyperex_temp_out.gff\"\n",
    "temp_filename = f\"hyperex_temp_res.fasta\"\n",
    "if os.path.exists(hyperex_log): os.remove(hyperex_log)\n",
    "if os.path.exists(hyperex_gff): os.remove(hyperex_gff)\n",
    "if os.path.exists(temp_filename): os.remove(temp_filename)  # Delete the temporary input file\n",
    "\n",
    "with open(temp_filename, \"w\") as temp_fasta:\n",
    "    SeqIO.write(fasta_seq[0], temp_fasta, \"fasta\")\n",
    "command = [\"hyperex\",  \"-f\", \"GTGARTCATCGARTCTTTG\", \"-r\", \"TCCTCCGCTTATTGATATGC\",\"-p\",\"hyperex_temp_out\", temp_filename]\n",
    "result = subprocess.run(command, stdout=subprocess.PIPE, stderr=subprocess.PIPE, text=True)\n",
    "warnings.extend(list(map(lambda x: x.replace(\"\\x1b[0m]\",\"\"), re.findall(\"WARN(.+)\",result.stdout))))\n",
    "errors.extend(result.stderr)\n",
    "if os.path.exists(hyperex_out_fa):\n",
    "    with open(hyperex_out_fa, \"r\") as fa_file:\n",
    "        results.append(fa_file.read())\n",
    "#print(result.stdout)\n",
    "#print(result.stderr)\n",
    "lenka = len(fasta_seq)\n",
    "command = [\"hyperex\",  \"-f\", \"GTGARTCATCGARTCTTTG\", \"-r\", \"TCCTCCGCTTATTGATATGC\",\"-p\",\"hyperex_temp_out\", temp_filename,\"--force\"]\n",
    "for i, record in enumerate(fasta_seq[1:]):\n",
    "    #temp_filename = f\"hyperex_temp_res.fasta\"\n",
    "    if i % 50 == 0: print(f\"{i}/{lenka}\",end=\"\\r\")\n",
    "    with open(temp_filename, \"w\") as temp_fasta:\n",
    "        SeqIO.write(record, temp_fasta, \"fasta\")\n",
    "    #if i == 0:command = [\"hyperex\",  \"-f\", \"GTGARTCATCGARTCTTTG\", \"-r\", \"TCCTCCGCTTATTGATATGC\",\"-p\",\"hyperex_temp_out\", temp_filename]\n",
    "    result = subprocess.run(command, stdout=subprocess.PIPE, stderr=subprocess.PIPE, text=True)\n",
    "    warnings.extend(list(map(lambda x: x.replace(\"\\x1b[0m]\",\"\"), re.findall(\"WARN(.+)\",result.stdout))))\n",
    "    errors.extend(result.stderr)\n",
    "    #if os.path.exists(hyperex_out_fa):\n",
    "    with open(hyperex_out_fa, \"r\") as fa_file:\n",
    "        results.append(fa_file.read())\n",
    "\n",
    "if os.path.exists(hyperex_out_fa):os.remove(hyperex_out_fa)  \n",
    "if os.path.exists(hyperex_log): os.remove(hyperex_log)\n",
    "if os.path.exists(hyperex_gff): os.remove(hyperex_gff)\n",
    "if os.path.exists(temp_filename): os.remove(temp_filename)  # Delete the temporary input file\n",
    "\n",
    "print()\n",
    "real_results = [i for i in results if len(i) >0]\n",
    "print(\"number of real results:\",len(real_results))\n",
    "warning_counts = Counter(warnings)\n",
    "error_counts = Counter(errors)\n",
    "print(\"ERRORS:\",list(error_counts),\"WARNINGS:\",\"\\n\".join(list(warning_counts)),sep=\"\\n\")\n",
    "\n"
   ]
  }
 ],
 "metadata": {
  "kernelspec": {
   "display_name": "chim",
   "language": "python",
   "name": "python3"
  },
  "language_info": {
   "codemirror_mode": {
    "name": "ipython",
    "version": 3
   },
   "file_extension": ".py",
   "mimetype": "text/x-python",
   "name": "python",
   "nbconvert_exporter": "python",
   "pygments_lexer": "ipython3",
   "version": "3.12.2"
  }
 },
 "nbformat": 4,
 "nbformat_minor": 2
}
